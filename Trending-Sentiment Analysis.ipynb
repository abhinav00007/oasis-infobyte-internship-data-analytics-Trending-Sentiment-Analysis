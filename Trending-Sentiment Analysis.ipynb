{
 "cells": [
  {
   "cell_type": "markdown",
   "metadata": {},
   "source": [
    "# Trending YouTube Video Statistics Analysis"
   ]
  },
  {
   "cell_type": "markdown",
   "metadata": {},
   "source": [
    "### by Yueh-Han Chen"
   ]
  },
  {
   "cell_type": "markdown",
   "metadata": {},
   "source": [
    "### Dataset Overview\n",
    "\n",
    "> YouTube (the world-famous video sharing website) maintains a list of the top trending videos on the platform. According to Variety magazine, “To determine the year’s top-trending videos, YouTube uses a combination of factors including measuring users interactions (number of views, shares, comments and likes). Note that they’re not the most-viewed videos overall for the calendar year”. Top performers on the YouTube trending list are music videos (such as the famously virile “Gangam Style”), celebrity and/or reality TV performances, and the random dude-with-a-camera viral videos that YouTube is well-known for.\n",
    "\n",
    "This dataset is a daily record of the top trending YouTube videos.\n",
    "\n",
    "\n",
    "### Research Question:\n",
    "1. Avereage views in each region\n",
    "2. Average time for potential videos to get to trending in each region\n",
    "3. Top 3 channels in each region measured by views and comments\n",
    "4. What top 3 categories were the most popular in each regions by views\n",
    "5. Throughout 2006 to 2018, which month produced most videos?"
   ]
  },
  {
   "cell_type": "markdown",
   "metadata": {},
   "source": [
    "## Data Wrangling"
   ]
  },
  {
   "cell_type": "markdown",
   "metadata": {},
   "source": [
    "### Gather"
   ]
  },
  {
   "cell_type": "code",
   "execution_count": 4,
   "metadata": {},
   "outputs": [],
   "source": [
    "# import all packages and set plots to be embedded inline\n",
    "import numpy as np\n",
    "import pandas as pd\n",
    "import statsmodels.api as sm\n",
    "import matplotlib.pyplot as plt\n",
    "import seaborn as sb\n",
    "\n",
    "%matplotlib inline\n",
    "\n",
    "# suppress warnings from final output\n",
    "import warnings\n",
    "warnings.simplefilter(\"ignore\")"
   ]
  },
  {
   "cell_type": "code",
   "execution_count": 123,
   "metadata": {
    "scrolled": true
   },
   "outputs": [],
   "source": [
    "#load data\n",
    "GB_df = pd.read_csv('GBvideos.csv') # Great Britain\n",
    "IN_df = pd.read_csv('INvideos.csv') # India\n",
    "JP_df = pd.read_csv('JPvideos.csv',encoding='latin1') # Japan\n",
    "KR_df = pd.read_csv('KRvideos.csv',encoding='latin1') # Korea\n",
    "RU_df = pd.read_csv('RUvideos.csv',encoding='latin1') # Russia\n",
    "US_df = pd.read_csv('USvideos.csv') # USA"
   ]
  },
  {
   "cell_type": "code",
   "execution_count": 124,
   "metadata": {
    "scrolled": true
   },
   "outputs": [],
   "source": [
    "# Load all json and extract the data of categories that I want\n",
    "\n",
    "import json\n",
    "\n",
    "GB_cat={}\n",
    "with open('GB_category_id.json') as f:\n",
    "    GB_data = json.load(f)\n",
    "for i in list(pd.DataFrame(GB_data['items']).id.values):\n",
    "    GB_cat[i]=pd.DataFrame(GB_data['items'])[pd.DataFrame(GB_data['items']).id==i].snippet.values[0]['title']\n",
    "\n",
    "IN_cat={}\n",
    "with open('IN_category_id.json') as f:\n",
    "    IN_data = json.load(f)\n",
    "for i in list(pd.DataFrame(IN_data['items']).id.values):\n",
    "    IN_cat[i]=pd.DataFrame(IN_data['items'])[pd.DataFrame(IN_data['items']).id==i].snippet.values[0]['title']\n",
    "    \n",
    "JP_cat={}\n",
    "with open('JP_category_id.json') as f:\n",
    "    JP_data = json.load(f)\n",
    "for i in list(pd.DataFrame(JP_data['items']).id.values):\n",
    "    JP_cat[i]=pd.DataFrame(JP_data['items'])[pd.DataFrame(JP_data['items']).id==i].snippet.values[0]['title']\n",
    "    \n",
    "KR_cat={}\n",
    "with open('KR_category_id.json') as f:\n",
    "    KR_data = json.load(f)\n",
    "for i in list(pd.DataFrame(KR_data['items']).id.values):\n",
    "    KR_cat[i]=pd.DataFrame(KR_data['items'])[pd.DataFrame(KR_data['items']).id==i].snippet.values[0]['title']\n",
    "    \n",
    "RU_cat={}\n",
    "with open('RU_category_id.json') as f:\n",
    "    RU_data = json.load(f)\n",
    "for i in list(pd.DataFrame(RU_data['items']).id.values):\n",
    "    RU_cat[i]=pd.DataFrame(RU_data['items'])[pd.DataFrame(RU_data['items']).id==i].snippet.values[0]['title']\n",
    "    \n",
    "US_cat={}\n",
    "with open('US_category_id.json') as f:\n",
    "    US_data = json.load(f)\n",
    "for i in list(pd.DataFrame(US_data['items']).id.values):\n",
    "    US_cat[i]=pd.DataFrame(US_data['items'])[pd.DataFrame(US_data['items']).id==i].snippet.values[0]['title']"
   ]
  },
  {
   "cell_type": "markdown",
   "metadata": {},
   "source": [
    "### Data Assessing"
   ]
  },
  {
   "cell_type": "code",
   "execution_count": 125,
   "metadata": {},
   "outputs": [],
   "source": [
    "# set up to view all the info of the columns\n",
    "pd.set_option('display.max_columns', None)\n",
    "pd.set_option('display.max_rows', None)\n",
    "pd.set_option('max_colwidth', -1)"
   ]
  },
  {
   "cell_type": "markdown",
   "metadata": {},
   "source": [
    "Assess GB_df:"
   ]
  },
  {
   "cell_type": "code",
   "execution_count": 126,
   "metadata": {
    "scrolled": false
   },
   "outputs": [
    {
     "data": {
      "text/html": [
       "<div>\n",
       "<style scoped>\n",
       "    .dataframe tbody tr th:only-of-type {\n",
       "        vertical-align: middle;\n",
       "    }\n",
       "\n",
       "    .dataframe tbody tr th {\n",
       "        vertical-align: top;\n",
       "    }\n",
       "\n",
       "    .dataframe thead th {\n",
       "        text-align: right;\n",
       "    }\n",
       "</style>\n",
       "<table border=\"1\" class=\"dataframe\">\n",
       "  <thead>\n",
       "    <tr style=\"text-align: right;\">\n",
       "      <th></th>\n",
       "      <th>video_id</th>\n",
       "      <th>trending_date</th>\n",
       "      <th>title</th>\n",
       "      <th>channel_title</th>\n",
       "      <th>category_id</th>\n",
       "      <th>publish_time</th>\n",
       "      <th>tags</th>\n",
       "      <th>views</th>\n",
       "      <th>likes</th>\n",
       "      <th>dislikes</th>\n",
       "      <th>comment_count</th>\n",
       "      <th>thumbnail_link</th>\n",
       "      <th>comments_disabled</th>\n",
       "      <th>ratings_disabled</th>\n",
       "      <th>video_error_or_removed</th>\n",
       "      <th>description</th>\n",
       "    </tr>\n",
       "  </thead>\n",
       "  <tbody>\n",
       "    <tr>\n",
       "      <td>35208</td>\n",
       "      <td>iWZmdoY1aTE</td>\n",
       "      <td>18.23.05</td>\n",
       "      <td>Ed Sheeran - Happier (Official Video)</td>\n",
       "      <td>Ed Sheeran</td>\n",
       "      <td>10</td>\n",
       "      <td>2018-04-27T08:40:14.000Z</td>\n",
       "      <td>edsheeran|\"ed sheeran\"|\"acoustic\"|\"live\"|\"cover\"|\"official\"|\"remix\"|\"official video\"|\"lyrics\"|\"session\"|\"ed sheeran happier\"|\"edsheeran happier\"</td>\n",
       "      <td>68562625</td>\n",
       "      <td>1439388</td>\n",
       "      <td>35557</td>\n",
       "      <td>68910</td>\n",
       "      <td>https://i.ytimg.com/vi/iWZmdoY1aTE/default.jpg</td>\n",
       "      <td>False</td>\n",
       "      <td>False</td>\n",
       "      <td>False</td>\n",
       "      <td>÷. Out Now: https://atlanti.cr/yt-albumSubscribe to Ed's channel: http://bit.ly/SubscribeToEdSheeranFollow Ed on...Facebook: http://www.facebook.com/EdSheeranMusicTwitter: http://twitter.com/edsheeranInstagram: http://instagram.com/teddysphotosOfficial Website: http://edsheeran.com</td>\n",
       "    </tr>\n",
       "    <tr>\n",
       "      <td>9240</td>\n",
       "      <td>WS7f5xpGYn8</td>\n",
       "      <td>17.30.12</td>\n",
       "      <td>Katy Perry - Hey Hey Hey (Official)</td>\n",
       "      <td>KatyPerryVEVO</td>\n",
       "      <td>10</td>\n",
       "      <td>2017-12-20T20:00:02.000Z</td>\n",
       "      <td>katy perry|\"hey hey hey\"|\"official\"|\"music video\"|\"witness\"|\"can't break me\"</td>\n",
       "      <td>27723596</td>\n",
       "      <td>770906</td>\n",
       "      <td>154663</td>\n",
       "      <td>77785</td>\n",
       "      <td>https://i.ytimg.com/vi/WS7f5xpGYn8/default.jpg</td>\n",
       "      <td>False</td>\n",
       "      <td>False</td>\n",
       "      <td>False</td>\n",
       "      <td>Get Hey Hey Hey from Katy's new album 'Witness': http://katy.to/WitnessYd\\nWITNESS: The Tour tickets available now! https://www.katyperry.com/tour\\n\\nDirected by Isaac Rentz\\nProduced by Nina Dluhy-Miller &amp; Danny Lockwood\\n\\nLyrics:\\nA big beautiful brain with a pretty face, yeah\\nA babydoll with a briefcase, yeah\\nA hot little hurricane, ha\\n'Cause I'm feminine and soft, but I'm still a boss, yeah\\nRed lipstick but still so raw, yeah\\nMarilyn Monroe in a monster truck\\n\\n'Cause I can be zen, and I can be the storm, yeah\\nSmell like a rose, and I pierce like a thorn, yeah\\nKarate chopping the clichés and norms all in a dress\\n\\nHey, hey, hey\\nYou think that I'm a little baby\\nYou think that I am fragile like a Fabergé\\nYou think that I am cracking, but you can't break me\\nNo, no way\\nNo, no way\\nNo, no way\\nYou think that I am cracking, but you can't break me (break me)\\n\\nYeah, I bounce back like a pro 'cause I'm so resilient\\nL-o-l at all your limits\\nKeep your penny thoughts, I'm making a mint\\n\\n'Cause I can be zen, and I can be the storm, yeah\\nSmell like a rose, and I pierce like a thorn, yeah\\nKarate chopping the clichés and norms all in a dress\\n\\nHey, hey, hey\\nYou think that I'm a little baby\\nYou think that I am fragile like a Fabergé\\nYou think that I am cracking, but you can't break me\\nNo, no way\\nNo, no way\\nNo, no way\\nYou think that I am cracking, but you can't break me (break me)\\n\\nI ain't got no strings (no strings, no strings, no strings)\\nI'm no one's little puppet\\nGot my own cha ching in my chubby little wallet\\nAnd secretly you love it (you fucking love it)\\nAnd secretly you love it\\n\\nHey, hey, hey\\nYou think that I'm a little baby\\nYou think that I am fragile like a Fabergé\\nYou think that I am cracking, but you can't break me\\nNo\\nHey, hey, hey\\nYou think that I'm a little baby\\nYou think that I am fragile like a Fabergé\\nYou think that I am cracking, but you can't break me\\nNo, no way (no)\\nNo, no way (no way)\\nNo, no way (uh-uh)\\nOh, you think that I am cracking, but you can't break me\\n\\nFollow Katy Perry:\\nhttp://www.katyperry.com\\nhttp://youtube.com/katyperry\\nhttp://twitter.com/katyperry\\nhttp://facebook.com/katyperry\\nhttp://instagram.com/katyperry\\n\\nMusic video by Katy Perry performing Hey Hey Hey (C) 2017 Capitol Records\\n\\nhttp://vevo.ly/233WHW</td>\n",
       "    </tr>\n",
       "    <tr>\n",
       "      <td>13771</td>\n",
       "      <td>I7B0z_2EZmQ</td>\n",
       "      <td>18.23.01</td>\n",
       "      <td>Regarding the rumors about me today</td>\n",
       "      <td>shane</td>\n",
       "      <td>23</td>\n",
       "      <td>2018-01-10T22:13:19.000Z</td>\n",
       "      <td>shanedawsontv|\"shane\"|\"dawson\"|\"vlogs\"|\"iphone\"|\"similar\"|\"to\"|\"jenna\"|\"marbles\"|\"smash\"|\"nigahiga\"|\"comedy\"</td>\n",
       "      <td>6317102</td>\n",
       "      <td>606412</td>\n",
       "      <td>9336</td>\n",
       "      <td>205539</td>\n",
       "      <td>https://i.ytimg.com/vi/I7B0z_2EZmQ/default.jpg</td>\n",
       "      <td>False</td>\n",
       "      <td>False</td>\n",
       "      <td>False</td>\n",
       "      <td>.</td>\n",
       "    </tr>\n",
       "  </tbody>\n",
       "</table>\n",
       "</div>"
      ],
      "text/plain": [
       "          video_id trending_date                                  title  \\\n",
       "35208  iWZmdoY1aTE  18.23.05      Ed Sheeran - Happier (Official Video)   \n",
       "9240   WS7f5xpGYn8  17.30.12      Katy Perry - Hey Hey Hey (Official)     \n",
       "13771  I7B0z_2EZmQ  18.23.01      Regarding the rumors about me today     \n",
       "\n",
       "       channel_title  category_id              publish_time  \\\n",
       "35208  Ed Sheeran     10           2018-04-27T08:40:14.000Z   \n",
       "9240   KatyPerryVEVO  10           2017-12-20T20:00:02.000Z   \n",
       "13771  shane          23           2018-01-10T22:13:19.000Z   \n",
       "\n",
       "                                                                                                                                                   tags  \\\n",
       "35208  edsheeran|\"ed sheeran\"|\"acoustic\"|\"live\"|\"cover\"|\"official\"|\"remix\"|\"official video\"|\"lyrics\"|\"session\"|\"ed sheeran happier\"|\"edsheeran happier\"   \n",
       "9240   katy perry|\"hey hey hey\"|\"official\"|\"music video\"|\"witness\"|\"can't break me\"                                                                       \n",
       "13771  shanedawsontv|\"shane\"|\"dawson\"|\"vlogs\"|\"iphone\"|\"similar\"|\"to\"|\"jenna\"|\"marbles\"|\"smash\"|\"nigahiga\"|\"comedy\"                                       \n",
       "\n",
       "          views    likes  dislikes  comment_count  \\\n",
       "35208  68562625  1439388  35557     68910           \n",
       "9240   27723596  770906   154663    77785           \n",
       "13771  6317102   606412   9336      205539          \n",
       "\n",
       "                                       thumbnail_link  comments_disabled  \\\n",
       "35208  https://i.ytimg.com/vi/iWZmdoY1aTE/default.jpg  False               \n",
       "9240   https://i.ytimg.com/vi/WS7f5xpGYn8/default.jpg  False               \n",
       "13771  https://i.ytimg.com/vi/I7B0z_2EZmQ/default.jpg  False               \n",
       "\n",
       "       ratings_disabled  video_error_or_removed  \\\n",
       "35208  False             False                    \n",
       "9240   False             False                    \n",
       "13771  False             False                    \n",
       "\n",
       "                                                                                                                                                                                                                                                                                                                                                                                                                                                                                                                                                                                                                                                                                                                                                                                                                                                                                                                                                                                                                                                                                                                                                                                                                                                                                                                                                                                                                                                                                                                                                                                                                                                                                                                                                                                                                                                                                                                                                                                                                                                                                                                                                                                                                                                                                                                                                                                                               description  \n",
       "35208  ÷. Out Now: https://atlanti.cr/yt-albumSubscribe to Ed's channel: http://bit.ly/SubscribeToEdSheeranFollow Ed on...Facebook: http://www.facebook.com/EdSheeranMusicTwitter: http://twitter.com/edsheeranInstagram: http://instagram.com/teddysphotosOfficial Website: http://edsheeran.com                                                                                                                                                                                                                                                                                                                                                                                                                                                                                                                                                                                                                                                                                                                                                                                                                                                                                                                                                                                                                                                                                                                                                                                                                                                                                                                                                                                                                                                                                                                                                                                                                                                                                                                                                                                                                                                                                                                                                                                                                                                                                                                           \n",
       "9240   Get Hey Hey Hey from Katy's new album 'Witness': http://katy.to/WitnessYd\\nWITNESS: The Tour tickets available now! https://www.katyperry.com/tour\\n\\nDirected by Isaac Rentz\\nProduced by Nina Dluhy-Miller & Danny Lockwood\\n\\nLyrics:\\nA big beautiful brain with a pretty face, yeah\\nA babydoll with a briefcase, yeah\\nA hot little hurricane, ha\\n'Cause I'm feminine and soft, but I'm still a boss, yeah\\nRed lipstick but still so raw, yeah\\nMarilyn Monroe in a monster truck\\n\\n'Cause I can be zen, and I can be the storm, yeah\\nSmell like a rose, and I pierce like a thorn, yeah\\nKarate chopping the clichés and norms all in a dress\\n\\nHey, hey, hey\\nYou think that I'm a little baby\\nYou think that I am fragile like a Fabergé\\nYou think that I am cracking, but you can't break me\\nNo, no way\\nNo, no way\\nNo, no way\\nYou think that I am cracking, but you can't break me (break me)\\n\\nYeah, I bounce back like a pro 'cause I'm so resilient\\nL-o-l at all your limits\\nKeep your penny thoughts, I'm making a mint\\n\\n'Cause I can be zen, and I can be the storm, yeah\\nSmell like a rose, and I pierce like a thorn, yeah\\nKarate chopping the clichés and norms all in a dress\\n\\nHey, hey, hey\\nYou think that I'm a little baby\\nYou think that I am fragile like a Fabergé\\nYou think that I am cracking, but you can't break me\\nNo, no way\\nNo, no way\\nNo, no way\\nYou think that I am cracking, but you can't break me (break me)\\n\\nI ain't got no strings (no strings, no strings, no strings)\\nI'm no one's little puppet\\nGot my own cha ching in my chubby little wallet\\nAnd secretly you love it (you fucking love it)\\nAnd secretly you love it\\n\\nHey, hey, hey\\nYou think that I'm a little baby\\nYou think that I am fragile like a Fabergé\\nYou think that I am cracking, but you can't break me\\nNo\\nHey, hey, hey\\nYou think that I'm a little baby\\nYou think that I am fragile like a Fabergé\\nYou think that I am cracking, but you can't break me\\nNo, no way (no)\\nNo, no way (no way)\\nNo, no way (uh-uh)\\nOh, you think that I am cracking, but you can't break me\\n\\nFollow Katy Perry:\\nhttp://www.katyperry.com\\nhttp://youtube.com/katyperry\\nhttp://twitter.com/katyperry\\nhttp://facebook.com/katyperry\\nhttp://instagram.com/katyperry\\n\\nMusic video by Katy Perry performing Hey Hey Hey (C) 2017 Capitol Records\\n\\nhttp://vevo.ly/233WHW  \n",
       "13771  .                                                                                                                                                                                                                                                                                                                                                                                                                                                                                                                                                                                                                                                                                                                                                                                                                                                                                                                                                                                                                                                                                                                                                                                                                                                                                                                                                                                                                                                                                                                                                                                                                                                                                                                                                                                                                                                                                                                                                                                                                                                                                                                                                                                                                                                                                                                                                                                                                    "
      ]
     },
     "execution_count": 126,
     "metadata": {},
     "output_type": "execute_result"
    }
   ],
   "source": [
    "GB_df.sample(3)"
   ]
  },
  {
   "cell_type": "code",
   "execution_count": 127,
   "metadata": {},
   "outputs": [
    {
     "data": {
      "text/plain": [
       "(38916, 16)"
      ]
     },
     "execution_count": 127,
     "metadata": {},
     "output_type": "execute_result"
    }
   ],
   "source": [
    "GB_df.shape"
   ]
  },
  {
   "cell_type": "code",
   "execution_count": 128,
   "metadata": {},
   "outputs": [
    {
     "data": {
      "text/html": [
       "<div>\n",
       "<style scoped>\n",
       "    .dataframe tbody tr th:only-of-type {\n",
       "        vertical-align: middle;\n",
       "    }\n",
       "\n",
       "    .dataframe tbody tr th {\n",
       "        vertical-align: top;\n",
       "    }\n",
       "\n",
       "    .dataframe thead th {\n",
       "        text-align: right;\n",
       "    }\n",
       "</style>\n",
       "<table border=\"1\" class=\"dataframe\">\n",
       "  <thead>\n",
       "    <tr style=\"text-align: right;\">\n",
       "      <th></th>\n",
       "      <th>category_id</th>\n",
       "      <th>views</th>\n",
       "      <th>likes</th>\n",
       "      <th>dislikes</th>\n",
       "      <th>comment_count</th>\n",
       "    </tr>\n",
       "  </thead>\n",
       "  <tbody>\n",
       "    <tr>\n",
       "      <td>count</td>\n",
       "      <td>38916.000000</td>\n",
       "      <td>3.891600e+04</td>\n",
       "      <td>3.891600e+04</td>\n",
       "      <td>3.891600e+04</td>\n",
       "      <td>3.891600e+04</td>\n",
       "    </tr>\n",
       "    <tr>\n",
       "      <td>mean</td>\n",
       "      <td>16.827937</td>\n",
       "      <td>5.911944e+06</td>\n",
       "      <td>1.345196e+05</td>\n",
       "      <td>7.612560e+03</td>\n",
       "      <td>1.308835e+04</td>\n",
       "    </tr>\n",
       "    <tr>\n",
       "      <td>std</td>\n",
       "      <td>7.752728</td>\n",
       "      <td>1.900121e+07</td>\n",
       "      <td>3.499893e+05</td>\n",
       "      <td>5.095683e+04</td>\n",
       "      <td>5.066740e+04</td>\n",
       "    </tr>\n",
       "    <tr>\n",
       "      <td>min</td>\n",
       "      <td>1.000000</td>\n",
       "      <td>8.510000e+02</td>\n",
       "      <td>0.000000e+00</td>\n",
       "      <td>0.000000e+00</td>\n",
       "      <td>0.000000e+00</td>\n",
       "    </tr>\n",
       "    <tr>\n",
       "      <td>25%</td>\n",
       "      <td>10.000000</td>\n",
       "      <td>2.515272e+05</td>\n",
       "      <td>5.897000e+03</td>\n",
       "      <td>2.000000e+02</td>\n",
       "      <td>6.790000e+02</td>\n",
       "    </tr>\n",
       "    <tr>\n",
       "      <td>50%</td>\n",
       "      <td>20.000000</td>\n",
       "      <td>9.818890e+05</td>\n",
       "      <td>2.518250e+04</td>\n",
       "      <td>8.210000e+02</td>\n",
       "      <td>2.478000e+03</td>\n",
       "    </tr>\n",
       "    <tr>\n",
       "      <td>75%</td>\n",
       "      <td>24.000000</td>\n",
       "      <td>3.683628e+06</td>\n",
       "      <td>1.140892e+05</td>\n",
       "      <td>3.357500e+03</td>\n",
       "      <td>9.241500e+03</td>\n",
       "    </tr>\n",
       "    <tr>\n",
       "      <td>max</td>\n",
       "      <td>43.000000</td>\n",
       "      <td>4.245389e+08</td>\n",
       "      <td>5.613827e+06</td>\n",
       "      <td>1.944971e+06</td>\n",
       "      <td>1.626501e+06</td>\n",
       "    </tr>\n",
       "  </tbody>\n",
       "</table>\n",
       "</div>"
      ],
      "text/plain": [
       "        category_id         views         likes      dislikes  comment_count\n",
       "count  38916.000000  3.891600e+04  3.891600e+04  3.891600e+04  3.891600e+04 \n",
       "mean   16.827937     5.911944e+06  1.345196e+05  7.612560e+03  1.308835e+04 \n",
       "std    7.752728      1.900121e+07  3.499893e+05  5.095683e+04  5.066740e+04 \n",
       "min    1.000000      8.510000e+02  0.000000e+00  0.000000e+00  0.000000e+00 \n",
       "25%    10.000000     2.515272e+05  5.897000e+03  2.000000e+02  6.790000e+02 \n",
       "50%    20.000000     9.818890e+05  2.518250e+04  8.210000e+02  2.478000e+03 \n",
       "75%    24.000000     3.683628e+06  1.140892e+05  3.357500e+03  9.241500e+03 \n",
       "max    43.000000     4.245389e+08  5.613827e+06  1.944971e+06  1.626501e+06 "
      ]
     },
     "execution_count": 128,
     "metadata": {},
     "output_type": "execute_result"
    }
   ],
   "source": [
    "GB_df.describe()"
   ]
  },
  {
   "cell_type": "code",
   "execution_count": 129,
   "metadata": {},
   "outputs": [
    {
     "name": "stdout",
     "output_type": "stream",
     "text": [
      "<class 'pandas.core.frame.DataFrame'>\n",
      "RangeIndex: 38916 entries, 0 to 38915\n",
      "Data columns (total 16 columns):\n",
      "video_id                  38916 non-null object\n",
      "trending_date             38916 non-null object\n",
      "title                     38916 non-null object\n",
      "channel_title             38916 non-null object\n",
      "category_id               38916 non-null int64\n",
      "publish_time              38916 non-null object\n",
      "tags                      38916 non-null object\n",
      "views                     38916 non-null int64\n",
      "likes                     38916 non-null int64\n",
      "dislikes                  38916 non-null int64\n",
      "comment_count             38916 non-null int64\n",
      "thumbnail_link            38916 non-null object\n",
      "comments_disabled         38916 non-null bool\n",
      "ratings_disabled          38916 non-null bool\n",
      "video_error_or_removed    38916 non-null bool\n",
      "description               38304 non-null object\n",
      "dtypes: bool(3), int64(5), object(8)\n",
      "memory usage: 4.0+ MB\n"
     ]
    }
   ],
   "source": [
    "GB_df.info()"
   ]
  },
  {
   "cell_type": "code",
   "execution_count": 130,
   "metadata": {
    "scrolled": true
   },
   "outputs": [
    {
     "data": {
      "text/plain": [
       "171"
      ]
     },
     "execution_count": 130,
     "metadata": {},
     "output_type": "execute_result"
    }
   ],
   "source": [
    "GB_df[GB_df.duplicated()].shape[0]"
   ]
  },
  {
   "cell_type": "code",
   "execution_count": 131,
   "metadata": {},
   "outputs": [
    {
     "data": {
      "text/plain": [
       "False    38233\n",
       "True     683  \n",
       "Name: comments_disabled, dtype: int64"
      ]
     },
     "execution_count": 131,
     "metadata": {},
     "output_type": "execute_result"
    }
   ],
   "source": [
    "GB_df.comments_disabled.value_counts()"
   ]
  },
  {
   "cell_type": "code",
   "execution_count": 132,
   "metadata": {
    "scrolled": true
   },
   "outputs": [
    {
     "data": {
      "text/plain": [
       "False    38644\n",
       "True     272  \n",
       "Name: ratings_disabled, dtype: int64"
      ]
     },
     "execution_count": 132,
     "metadata": {},
     "output_type": "execute_result"
    }
   ],
   "source": [
    "GB_df.ratings_disabled.value_counts()"
   ]
  },
  {
   "cell_type": "code",
   "execution_count": 133,
   "metadata": {},
   "outputs": [
    {
     "data": {
      "text/plain": [
       "False    38847\n",
       "True     69   \n",
       "Name: video_error_or_removed, dtype: int64"
      ]
     },
     "execution_count": 133,
     "metadata": {},
     "output_type": "execute_result"
    }
   ],
   "source": [
    "GB_df.video_error_or_removed.value_counts()"
   ]
  },
  {
   "cell_type": "markdown",
   "metadata": {},
   "source": [
    "Assess IN_df:"
   ]
  },
  {
   "cell_type": "code",
   "execution_count": 134,
   "metadata": {},
   "outputs": [
    {
     "data": {
      "text/html": [
       "<div>\n",
       "<style scoped>\n",
       "    .dataframe tbody tr th:only-of-type {\n",
       "        vertical-align: middle;\n",
       "    }\n",
       "\n",
       "    .dataframe tbody tr th {\n",
       "        vertical-align: top;\n",
       "    }\n",
       "\n",
       "    .dataframe thead th {\n",
       "        text-align: right;\n",
       "    }\n",
       "</style>\n",
       "<table border=\"1\" class=\"dataframe\">\n",
       "  <thead>\n",
       "    <tr style=\"text-align: right;\">\n",
       "      <th></th>\n",
       "      <th>video_id</th>\n",
       "      <th>trending_date</th>\n",
       "      <th>title</th>\n",
       "      <th>channel_title</th>\n",
       "      <th>category_id</th>\n",
       "      <th>publish_time</th>\n",
       "      <th>tags</th>\n",
       "      <th>views</th>\n",
       "      <th>likes</th>\n",
       "      <th>dislikes</th>\n",
       "      <th>comment_count</th>\n",
       "      <th>thumbnail_link</th>\n",
       "      <th>comments_disabled</th>\n",
       "      <th>ratings_disabled</th>\n",
       "      <th>video_error_or_removed</th>\n",
       "      <th>description</th>\n",
       "    </tr>\n",
       "  </thead>\n",
       "  <tbody>\n",
       "    <tr>\n",
       "      <td>19639</td>\n",
       "      <td>rWVgT8Rbk-c</td>\n",
       "      <td>18.02.03</td>\n",
       "      <td>అసలు బోనీ కపూర్ ముంబాయి ఎందుకు వచ్చాడు..? శ్రీదేవి ని బాత్రూం లో ఎవరు చంపారు కారణం తెలిస్తే</td>\n",
       "      <td>We support you</td>\n",
       "      <td>22</td>\n",
       "      <td>2018-02-27T04:49:45.000Z</td>\n",
       "      <td>sridevi funeral video|\"sridevi funeral\"|\"sridevi daughter\"|\"we support you\"|\"channel\"|\"video\"|\"sridevi dead body in mumbai\"|\"sridevi dead body video\"|\"sridevi dead body live\"|\"sridevi death\"|\"boney kapoor family\"|\"boney kapoor on sridevi death\"|\"boney kapoor first wife funeral\"|\"sridevi death latest news\"</td>\n",
       "      <td>1476561</td>\n",
       "      <td>0</td>\n",
       "      <td>0</td>\n",
       "      <td>0</td>\n",
       "      <td>https://i.ytimg.com/vi/rWVgT8Rbk-c/default.jpg</td>\n",
       "      <td>True</td>\n",
       "      <td>True</td>\n",
       "      <td>False</td>\n",
       "      <td>Topic: అసలు బోనీ కపూర్ ముంబాయి ఎందుకు వచ్చాడు..? శ్రీదేవి ని బాత్రూం లో ఎవరు చంపారు కారం తెలిస్తే. Watch this video till the end and don't forget to subscribe our channel. Thanks for watching this video.\\nOur Channel Description: \\nWe support you is the channel which provides all the information regarding the health tips in telugu, mysterious, world, funny, shocking facts, weird, and latest tollywood updates along with all the updates from entertainment. It all also gives the information about the techniques which are useful to everyone. And it prepares a video as per user guidelines. Stay tuned to our channel for all the Telugu Movie News, Presenting information related to devotional bhakti spiritual, and also important content related to Lifestyle Education Technology Gadgets Automobile Beauty Glamour Facts. Please subscribe to our channel and refer your friends about this channel. watch this videos and share with them everywhere. we prepare videos as per your guidelines. We love to serve our best.........!\\n(We support you for the right solution)\\n\\nBe a Lucky subscriber\\nhttps://www.youtube.com/channel/UCvYTmg5i5GViJr3HpauJ26A?sub_confirmation=1\\n??..............................................................??\\nFollow me on facebook\\nhttps://www.facebook.com/wesupportyu\\n??..............................................................??\\n\\nLet me tweet you for new updates\\nhttps://twitter.com/wesupportyoux7\\n??..............................................................??\\n\\nLet's talk in the google plus\\nhttps://plus.google.com/u/0/118289124853883415445\\n\\nPin us on  pinterest\\nhttps://www.pinterest.com/wesupportyu/</td>\n",
       "    </tr>\n",
       "    <tr>\n",
       "      <td>7838</td>\n",
       "      <td>WV-IXl_fUxQ</td>\n",
       "      <td>17.25.12</td>\n",
       "      <td>Deivamagal Episode 1422, 23/12/17</td>\n",
       "      <td>VikatanTV</td>\n",
       "      <td>43</td>\n",
       "      <td>2017-12-23T15:00:03.000Z</td>\n",
       "      <td>deivamagal|\"deiva magal\"|\"deiva magal serial\"|\"VikatanTV\"|\"deivamagal episode today\"|\"deivamagal today\"|\"deivamagal today episode\"|\"deivamagal episode 1422\"|\"deivamagal 23 December 2017\"|\"deiva magal serial 23.12.17\"|\"deiva magal episode 1422\"|\"தெய்வமகள்\"|\"devamagal\"|\"deivamagal episode\"|\"deviamagal\"|\"deivamahal\"|\"devaimagal\"|\"divamagal\"</td>\n",
       "      <td>1122821</td>\n",
       "      <td>7839</td>\n",
       "      <td>1268</td>\n",
       "      <td>982</td>\n",
       "      <td>https://i.ytimg.com/vi/WV-IXl_fUxQ/default.jpg</td>\n",
       "      <td>False</td>\n",
       "      <td>False</td>\n",
       "      <td>False</td>\n",
       "      <td>Deivamagal Episode 1422\\nSubscribe: https://goo.gl/eSvMiG  Prev Episode: https://goo.gl/amK96A  Priyamanaval Episode 898: https://goo.gl/iPj7Pi  Best of Deivamagal: https://goo.gl/oWdXQ2  Best of Moorthy comedy: https://goo.gl/05WSN4  Deivamagal All Episodes: https://goo.gl/Z5L59u  Deivamagal Title Song: https://goo.gl/1kRyA1  Deivamagal Romantic Song: https://goo.gl/Qq6x5B\\nChannel: http://www.youtube.com/user/VikatanTV\\nFacebook: https://www.facebook.com/deivamagal</td>\n",
       "    </tr>\n",
       "    <tr>\n",
       "      <td>6</td>\n",
       "      <td>7MxiQ4v0EnE</td>\n",
       "      <td>17.14.11</td>\n",
       "      <td>Daang ( Full Video ) | Mankirt Aulakh | Sukh Sanghera | Latest Punjabi Song 2017 | Speed Records</td>\n",
       "      <td>Speed Records</td>\n",
       "      <td>10</td>\n",
       "      <td>2017-11-11T16:41:15.000Z</td>\n",
       "      <td>punjabi songs|\"punjabi bhangra\"|\"punjabi music\"|\"punjabi bhangra music\"|\"punjabi latest songs\"|\"punjabi romantic songs\"|\"punjabi sad songs\"|\"punjabi\"|\"bhangra\"|\"latest punjabi songs 2017\"|\"punjab\"|\"desi\"|\"speed records\"|\"mankirt new song\"|\"daang\"|\"sukh sanghera\"|\"deep kahlon\"|\"mankirt aulakh\"</td>\n",
       "      <td>5718766</td>\n",
       "      <td>127477</td>\n",
       "      <td>7134</td>\n",
       "      <td>8063</td>\n",
       "      <td>https://i.ytimg.com/vi/7MxiQ4v0EnE/default.jpg</td>\n",
       "      <td>False</td>\n",
       "      <td>False</td>\n",
       "      <td>False</td>\n",
       "      <td>Song - Daang\\nSinger - Mankirt Aulakh\\nFacebook - https://www.facebook.com/mankirtaulakh\\nInstagram - https://www.instagram.com/mankirtaulakh\\nSnapchat - Mankirtaulakh\\nMusic - MixSingh \\nLyrics - Deep Kahlon\\nSpecial Thanks - Sanjeev Sharma\\nProject By - Gurpreet Khetla\\nVideo - Sukh Sanghera\\nOnline Promotion - Gold Media\\nLabel - Speed Records \\n\\nItunes - http://abc.digital/dng1\\nApple Music - http://abc.digital/dng2\\nHungam - http://bit.ly/2jmDowU\\nSaavn - http://bit.ly/2zF50S5\\nGaana - http://bit.ly/2AyGxNF\\n\\nLike || Share || Spread || Love \\n  \\nEnjoy &amp; stay connected with us!\\n► Subscribe to Speed Records : http://bit.ly/SpeedRecords\\n► Like us on Facebook: https://www.facebook.com/SpeedRecords\\n► Follow us on Twitter: https://twitter.com/Speed_Records\\n► Follow us on Instagram: https://instagram.com/Speed_Records\\n► Follow on Snapchat : https://www.snapchat.com/add/speedrecords\\n  \\nVirasat Facebook Link - https://m.facebook.com/Virasat-152196...\\nOops TV Facebook Link - https://m.facebook.com/oopstvfun/\\n\\nFoodies -\\nInstagram - http://instagram.com/speedfoodies\\nFacebook - http://bit.ly/2yvcBB9\\nSnapchat - https://www.snapchat.com/add/officialfoodies\\n\\nPoon Poon - \\nSnapchat- https://www.snapchat.com/add/poonpoon0001\\nYoutube-  youtube.com/channel/UC82dRFIxmjA293G7tYunPWQ\\nFacebook - https://www.facebook.com/officialpoonpoon\\nInstagram - https://instagram.com/poonpoonofficial</td>\n",
       "    </tr>\n",
       "  </tbody>\n",
       "</table>\n",
       "</div>"
      ],
      "text/plain": [
       "          video_id trending_date  \\\n",
       "19639  rWVgT8Rbk-c  18.02.03       \n",
       "7838   WV-IXl_fUxQ  17.25.12       \n",
       "6      7MxiQ4v0EnE  17.14.11       \n",
       "\n",
       "                                                                                                  title  \\\n",
       "19639  అసలు బోనీ కపూర్ ముంబాయి ఎందుకు వచ్చాడు..? శ్రీదేవి ని బాత్రూం లో ఎవరు చంపారు కారణం తెలిస్తే        \n",
       "7838   Deivamagal Episode 1422, 23/12/17                                                                  \n",
       "6      Daang ( Full Video ) | Mankirt Aulakh | Sukh Sanghera | Latest Punjabi Song 2017 | Speed Records   \n",
       "\n",
       "        channel_title  category_id              publish_time  \\\n",
       "19639  We support you  22           2018-02-27T04:49:45.000Z   \n",
       "7838   VikatanTV       43           2017-12-23T15:00:03.000Z   \n",
       "6      Speed Records   10           2017-11-11T16:41:15.000Z   \n",
       "\n",
       "                                                                                                                                                                                                                                                                                                                                                      tags  \\\n",
       "19639  sridevi funeral video|\"sridevi funeral\"|\"sridevi daughter\"|\"we support you\"|\"channel\"|\"video\"|\"sridevi dead body in mumbai\"|\"sridevi dead body video\"|\"sridevi dead body live\"|\"sridevi death\"|\"boney kapoor family\"|\"boney kapoor on sridevi death\"|\"boney kapoor first wife funeral\"|\"sridevi death latest news\"                                    \n",
       "7838   deivamagal|\"deiva magal\"|\"deiva magal serial\"|\"VikatanTV\"|\"deivamagal episode today\"|\"deivamagal today\"|\"deivamagal today episode\"|\"deivamagal episode 1422\"|\"deivamagal 23 December 2017\"|\"deiva magal serial 23.12.17\"|\"deiva magal episode 1422\"|\"தெய்வமகள்\"|\"devamagal\"|\"deivamagal episode\"|\"deviamagal\"|\"deivamahal\"|\"devaimagal\"|\"divamagal\"   \n",
       "6      punjabi songs|\"punjabi bhangra\"|\"punjabi music\"|\"punjabi bhangra music\"|\"punjabi latest songs\"|\"punjabi romantic songs\"|\"punjabi sad songs\"|\"punjabi\"|\"bhangra\"|\"latest punjabi songs 2017\"|\"punjab\"|\"desi\"|\"speed records\"|\"mankirt new song\"|\"daang\"|\"sukh sanghera\"|\"deep kahlon\"|\"mankirt aulakh\"                                                 \n",
       "\n",
       "         views   likes  dislikes  comment_count  \\\n",
       "19639  1476561  0       0         0               \n",
       "7838   1122821  7839    1268      982             \n",
       "6      5718766  127477  7134      8063            \n",
       "\n",
       "                                       thumbnail_link  comments_disabled  \\\n",
       "19639  https://i.ytimg.com/vi/rWVgT8Rbk-c/default.jpg  True                \n",
       "7838   https://i.ytimg.com/vi/WV-IXl_fUxQ/default.jpg  False               \n",
       "6      https://i.ytimg.com/vi/7MxiQ4v0EnE/default.jpg  False               \n",
       "\n",
       "       ratings_disabled  video_error_or_removed  \\\n",
       "19639  True              False                    \n",
       "7838   False             False                    \n",
       "6      False             False                    \n",
       "\n",
       "                                                                                                                                                                                                                                                                                                                                                                                                                                                                                                                                                                                                                                                                                                                                                                                                                                                                                                                                                                                                                                                                                                                                                                                                                                                                                                                                                                                                                                                                                                                                                                                                                                                                                                                description  \n",
       "19639  Topic: అసలు బోనీ కపూర్ ముంబాయి ఎందుకు వచ్చాడు..? శ్రీదేవి ని బాత్రూం లో ఎవరు చంపారు కారం తెలిస్తే. Watch this video till the end and don't forget to subscribe our channel. Thanks for watching this video.\\nOur Channel Description: \\nWe support you is the channel which provides all the information regarding the health tips in telugu, mysterious, world, funny, shocking facts, weird, and latest tollywood updates along with all the updates from entertainment. It all also gives the information about the techniques which are useful to everyone. And it prepares a video as per user guidelines. Stay tuned to our channel for all the Telugu Movie News, Presenting information related to devotional bhakti spiritual, and also important content related to Lifestyle Education Technology Gadgets Automobile Beauty Glamour Facts. Please subscribe to our channel and refer your friends about this channel. watch this videos and share with them everywhere. we prepare videos as per your guidelines. We love to serve our best.........!\\n(We support you for the right solution)\\n\\nBe a Lucky subscriber\\nhttps://www.youtube.com/channel/UCvYTmg5i5GViJr3HpauJ26A?sub_confirmation=1\\n??..............................................................??\\nFollow me on facebook\\nhttps://www.facebook.com/wesupportyu\\n??..............................................................??\\n\\nLet me tweet you for new updates\\nhttps://twitter.com/wesupportyoux7\\n??..............................................................??\\n\\nLet's talk in the google plus\\nhttps://plus.google.com/u/0/118289124853883415445\\n\\nPin us on  pinterest\\nhttps://www.pinterest.com/wesupportyu/  \n",
       "7838   Deivamagal Episode 1422\\nSubscribe: https://goo.gl/eSvMiG  Prev Episode: https://goo.gl/amK96A  Priyamanaval Episode 898: https://goo.gl/iPj7Pi  Best of Deivamagal: https://goo.gl/oWdXQ2  Best of Moorthy comedy: https://goo.gl/05WSN4  Deivamagal All Episodes: https://goo.gl/Z5L59u  Deivamagal Title Song: https://goo.gl/1kRyA1  Deivamagal Romantic Song: https://goo.gl/Qq6x5B\\nChannel: http://www.youtube.com/user/VikatanTV\\nFacebook: https://www.facebook.com/deivamagal                                                                                                                                                                                                                                                                                                                                                                                                                                                                                                                                                                                                                                                                                                                                                                                                                                                                                                                                                                                                                                                                                                                                                                                                                               \n",
       "6      Song - Daang\\nSinger - Mankirt Aulakh\\nFacebook - https://www.facebook.com/mankirtaulakh\\nInstagram - https://www.instagram.com/mankirtaulakh\\nSnapchat - Mankirtaulakh\\nMusic - MixSingh \\nLyrics - Deep Kahlon\\nSpecial Thanks - Sanjeev Sharma\\nProject By - Gurpreet Khetla\\nVideo - Sukh Sanghera\\nOnline Promotion - Gold Media\\nLabel - Speed Records \\n\\nItunes - http://abc.digital/dng1\\nApple Music - http://abc.digital/dng2\\nHungam - http://bit.ly/2jmDowU\\nSaavn - http://bit.ly/2zF50S5\\nGaana - http://bit.ly/2AyGxNF\\n\\nLike || Share || Spread || Love \\n  \\nEnjoy & stay connected with us!\\n► Subscribe to Speed Records : http://bit.ly/SpeedRecords\\n► Like us on Facebook: https://www.facebook.com/SpeedRecords\\n► Follow us on Twitter: https://twitter.com/Speed_Records\\n► Follow us on Instagram: https://instagram.com/Speed_Records\\n► Follow on Snapchat : https://www.snapchat.com/add/speedrecords\\n  \\nVirasat Facebook Link - https://m.facebook.com/Virasat-152196...\\nOops TV Facebook Link - https://m.facebook.com/oopstvfun/\\n\\nFoodies -\\nInstagram - http://instagram.com/speedfoodies\\nFacebook - http://bit.ly/2yvcBB9\\nSnapchat - https://www.snapchat.com/add/officialfoodies\\n\\nPoon Poon - \\nSnapchat- https://www.snapchat.com/add/poonpoon0001\\nYoutube-  youtube.com/channel/UC82dRFIxmjA293G7tYunPWQ\\nFacebook - https://www.facebook.com/officialpoonpoon\\nInstagram - https://instagram.com/poonpoonofficial                                                                                                                                                                                                                                                   "
      ]
     },
     "execution_count": 134,
     "metadata": {},
     "output_type": "execute_result"
    }
   ],
   "source": [
    "IN_df.sample(3)"
   ]
  },
  {
   "cell_type": "code",
   "execution_count": 135,
   "metadata": {},
   "outputs": [
    {
     "name": "stdout",
     "output_type": "stream",
     "text": [
      "<class 'pandas.core.frame.DataFrame'>\n",
      "RangeIndex: 37352 entries, 0 to 37351\n",
      "Data columns (total 16 columns):\n",
      "video_id                  37352 non-null object\n",
      "trending_date             37352 non-null object\n",
      "title                     37352 non-null object\n",
      "channel_title             37352 non-null object\n",
      "category_id               37352 non-null int64\n",
      "publish_time              37352 non-null object\n",
      "tags                      37352 non-null object\n",
      "views                     37352 non-null int64\n",
      "likes                     37352 non-null int64\n",
      "dislikes                  37352 non-null int64\n",
      "comment_count             37352 non-null int64\n",
      "thumbnail_link            37352 non-null object\n",
      "comments_disabled         37352 non-null bool\n",
      "ratings_disabled          37352 non-null bool\n",
      "video_error_or_removed    37352 non-null bool\n",
      "description               36791 non-null object\n",
      "dtypes: bool(3), int64(5), object(8)\n",
      "memory usage: 3.8+ MB\n"
     ]
    }
   ],
   "source": [
    "IN_df.info()"
   ]
  },
  {
   "cell_type": "code",
   "execution_count": 136,
   "metadata": {},
   "outputs": [
    {
     "data": {
      "text/plain": [
       "4263"
      ]
     },
     "execution_count": 136,
     "metadata": {},
     "output_type": "execute_result"
    }
   ],
   "source": [
    "IN_df[IN_df.duplicated()].shape[0]"
   ]
  },
  {
   "cell_type": "markdown",
   "metadata": {},
   "source": [
    "Assess JP_df:"
   ]
  },
  {
   "cell_type": "code",
   "execution_count": 137,
   "metadata": {},
   "outputs": [
    {
     "data": {
      "text/plain": [
       "5677"
      ]
     },
     "execution_count": 137,
     "metadata": {},
     "output_type": "execute_result"
    }
   ],
   "source": [
    "JP_df[JP_df.duplicated()].shape[0]"
   ]
  },
  {
   "cell_type": "markdown",
   "metadata": {},
   "source": [
    "Assess KR_df:"
   ]
  },
  {
   "cell_type": "code",
   "execution_count": 138,
   "metadata": {},
   "outputs": [
    {
     "data": {
      "text/plain": [
       "2316"
      ]
     },
     "execution_count": 138,
     "metadata": {},
     "output_type": "execute_result"
    }
   ],
   "source": [
    "KR_df[KR_df.duplicated()].shape[0]"
   ]
  },
  {
   "cell_type": "markdown",
   "metadata": {},
   "source": [
    "Assess RU_df:"
   ]
  },
  {
   "cell_type": "code",
   "execution_count": 139,
   "metadata": {},
   "outputs": [
    {
     "data": {
      "text/plain": [
       "46"
      ]
     },
     "execution_count": 139,
     "metadata": {},
     "output_type": "execute_result"
    }
   ],
   "source": [
    "RU_df[RU_df.duplicated()].shape[0]"
   ]
  },
  {
   "cell_type": "markdown",
   "metadata": {},
   "source": [
    "Assess US_df:"
   ]
  },
  {
   "cell_type": "code",
   "execution_count": 140,
   "metadata": {},
   "outputs": [
    {
     "data": {
      "text/plain": [
       "48"
      ]
     },
     "execution_count": 140,
     "metadata": {},
     "output_type": "execute_result"
    }
   ],
   "source": [
    "US_df[US_df.duplicated()].shape[0]"
   ]
  },
  {
   "cell_type": "markdown",
   "metadata": {},
   "source": [
    "### Assessment report:\n",
    "\n",
    "General issues:\n",
    "\n",
    "**Quality issues**\n",
    "\n",
    "- The data type of category_id should be object instead of int\n",
    "- Many duplicated rows including exactly same rows and same video but was recorded in dataset in different time\n",
    "- The data type of trending_date and publish_time should be datetime instead of object\n",
    "\n",
    "**Tidiness issues**\n",
    "\n",
    "- not useful coulumns: 'thumbnail_link','tags', 'description'\n",
    "- The data includes a category_id field, which varies between regions. The categories for a specific video in the associated JSON.\n",
    "- Each region’s data is in a separate file. They should be joined together and created a 'region' column to specify what is the region each data from"
   ]
  },
  {
   "cell_type": "markdown",
   "metadata": {},
   "source": [
    "### Data Cleaning"
   ]
  },
  {
   "cell_type": "code",
   "execution_count": 141,
   "metadata": {},
   "outputs": [],
   "source": [
    "copy_GB = GB_df.copy() # Great Britain\n",
    "copy_IN = IN_df.copy() # India\n",
    "copy_JP = JP_df.copy() # Japan\n",
    "copy_KR = KR_df.copy() # Korea\n",
    "copy_RU = RU_df.copy() # Russia\n",
    "copy_US = US_df.copy() # USA"
   ]
  },
  {
   "cell_type": "markdown",
   "metadata": {},
   "source": [
    "**Tidiness issue: not useful columns: 'thumbnail_link','tags', 'description'**"
   ]
  },
  {
   "cell_type": "markdown",
   "metadata": {},
   "source": [
    "**Define: Drop useless columns: 'thumbnail_link','tags', 'description'**"
   ]
  },
  {
   "cell_type": "markdown",
   "metadata": {},
   "source": [
    "#### Code"
   ]
  },
  {
   "cell_type": "code",
   "execution_count": 142,
   "metadata": {},
   "outputs": [],
   "source": [
    "# drop 'thumbnail_link','tags', 'description' columns\n",
    "copy_GB.drop(['thumbnail_link','tags', 'description'], axis=1, inplace=True)\n",
    "copy_IN.drop(['thumbnail_link','tags', 'description'], axis=1, inplace=True)\n",
    "copy_JP.drop(['thumbnail_link','tags', 'description'], axis=1, inplace=True)\n",
    "copy_KR.drop(['thumbnail_link','tags', 'description'], axis=1, inplace=True)\n",
    "copy_RU.drop(['thumbnail_link','tags', 'description'], axis=1, inplace=True)\n",
    "copy_US.drop(['thumbnail_link','tags', 'description'], axis=1, inplace=True)"
   ]
  },
  {
   "cell_type": "markdown",
   "metadata": {},
   "source": [
    "#### Test"
   ]
  },
  {
   "cell_type": "code",
   "execution_count": 143,
   "metadata": {},
   "outputs": [],
   "source": [
    "# if 'thumbnail_link','tags', 'description' still in the columns, print \"wrong\"\n",
    "for i in ['thumbnail_link','tags', 'description']:\n",
    "    if i in copy_GB.columns:\n",
    "        print('Wrong')\n",
    "    if i in copy_IN.columns:\n",
    "        print('Wrong')\n",
    "    if i in copy_JP.columns:\n",
    "        print('Wrong')\n",
    "    if i in copy_KR.columns:\n",
    "        print('Wrong')\n",
    "    if i in copy_RU.columns:\n",
    "        print('Wrong')\n",
    "    if i in copy_US.columns:\n",
    "        print('Wrong')"
   ]
  },
  {
   "cell_type": "markdown",
   "metadata": {},
   "source": [
    "**Tidiness issue: The data includes a category_id field, which varies between regions. The categories for a specific video in the associated JSON.**"
   ]
  },
  {
   "cell_type": "markdown",
   "metadata": {},
   "source": [
    "**Define: convert each category_id to category from each JSON file**"
   ]
  },
  {
   "cell_type": "markdown",
   "metadata": {},
   "source": [
    "#### Code"
   ]
  },
  {
   "cell_type": "code",
   "execution_count": 144,
   "metadata": {},
   "outputs": [],
   "source": [
    "# Convert the data type of category_id from int to str\n",
    "# map each category_id to category. \n",
    "# rename the category_id to category\n",
    "\n",
    "copy_GB.category_id=copy_GB.category_id.astype(str)\n",
    "copy_GB.category_id=copy_GB.category_id.map(GB_cat)\n",
    "copy_GB.rename(columns={'category_id':'category'}, inplace=True)\n",
    "\n",
    "copy_IN.category_id=copy_IN.category_id.astype(str)\n",
    "copy_IN.category_id=copy_IN.category_id.map(IN_cat)\n",
    "copy_IN.rename(columns={'category_id':'category'}, inplace=True)\n",
    "\n",
    "copy_JP.category_id=copy_JP.category_id.astype(str)\n",
    "copy_JP.category_id=copy_JP.category_id.map(JP_cat)\n",
    "copy_JP.rename(columns={'category_id':'category'}, inplace=True)\n",
    "\n",
    "copy_KR.category_id=copy_KR.category_id.astype(str)\n",
    "copy_KR.category_id=copy_KR.category_id.map(KR_cat)\n",
    "copy_KR.rename(columns={'category_id':'category'}, inplace=True)\n",
    "\n",
    "copy_RU.category_id=copy_RU.category_id.astype(str)\n",
    "copy_RU.category_id=copy_RU.category_id.map(RU_cat)\n",
    "copy_RU.rename(columns={'category_id':'category'}, inplace=True)\n",
    "\n",
    "copy_US.category_id=copy_US.category_id.astype(str)\n",
    "copy_US.category_id=copy_US.category_id.map(US_cat)\n",
    "copy_US.rename(columns={'category_id':'category'}, inplace=True)"
   ]
  },
  {
   "cell_type": "markdown",
   "metadata": {},
   "source": [
    "#### Test"
   ]
  },
  {
   "cell_type": "code",
   "execution_count": 145,
   "metadata": {},
   "outputs": [
    {
     "data": {
      "text/plain": [
       "(array(['Howto & Style', 'Entertainment', 'Music', 'Sports',\n",
       "        'News & Politics', 'People & Blogs', 'Comedy',\n",
       "        'Science & Technology', 'Pets & Animals', 'Education',\n",
       "        'Film & Animation', 'Gaming', 'Autos & Vehicles',\n",
       "        'Travel & Events', nan, 'Shows'], dtype=object),\n",
       " array(['Film & Animation', 'News & Politics', 'Entertainment', 'Comedy',\n",
       "        'Music', 'People & Blogs', 'Travel & Events',\n",
       "        'Science & Technology', 'Education', 'Howto & Style', 'Shows',\n",
       "        'Sports', nan, 'Autos & Vehicles', 'Pets & Animals', 'Gaming',\n",
       "        'Movies'], dtype=object),\n",
       " array(['News & Politics', 'Film & Animation', 'Science & Technology',\n",
       "        'People & Blogs', 'Comedy', 'Travel & Events', 'Pets & Animals',\n",
       "        'Entertainment', 'Howto & Style', 'Autos & Vehicles', 'Sports',\n",
       "        nan, 'Music', 'Gaming', 'Education'], dtype=object),\n",
       " array(['People & Blogs', 'News & Politics', 'Sports', 'Travel & Events',\n",
       "        'Comedy', 'Music', 'Entertainment', 'Pets & Animals',\n",
       "        'Film & Animation', 'Shows', 'Science & Technology', 'Gaming', nan,\n",
       "        'Autos & Vehicles', 'Education', 'Howto & Style', 'Trailers'],\n",
       "       dtype=object),\n",
       " array(['People & Blogs', 'Entertainment', 'Science & Technology',\n",
       "        'Comedy', 'Education', 'Sports', 'Autos & Vehicles',\n",
       "        'News & Politics', 'Pets & Animals', 'Gaming', 'Film & Animation',\n",
       "        'Shows', 'Howto & Style', 'Music', nan, 'Travel & Events',\n",
       "        'Movies'], dtype=object),\n",
       " array(['People & Blogs', 'Entertainment', 'Comedy',\n",
       "        'Science & Technology', 'Film & Animation', 'News & Politics',\n",
       "        'Sports', 'Music', 'Pets & Animals', 'Education', 'Howto & Style',\n",
       "        'Autos & Vehicles', 'Travel & Events', 'Gaming',\n",
       "        'Nonprofits & Activism', 'Shows'], dtype=object))"
      ]
     },
     "execution_count": 145,
     "metadata": {},
     "output_type": "execute_result"
    }
   ],
   "source": [
    "# print all the unique values in category columns in each dataset:\n",
    "(copy_GB.category.unique(),\n",
    "copy_IN.category.unique(),\n",
    "copy_JP.category.unique(),\n",
    "copy_KR.category.unique(),\n",
    "copy_RU.category.unique(),\n",
    "copy_US.category.unique())"
   ]
  },
  {
   "cell_type": "markdown",
   "metadata": {},
   "source": [
    "**Tidiness issue: Each region’s data is in a separate file. They should be joined together and created a 'region' column to specify what is the region each data from**"
   ]
  },
  {
   "cell_type": "markdown",
   "metadata": {},
   "source": [
    "**Define: use append to combine each dataset to one dataset as 'combined_df'**"
   ]
  },
  {
   "cell_type": "markdown",
   "metadata": {},
   "source": [
    "#### Code"
   ]
  },
  {
   "cell_type": "code",
   "execution_count": 146,
   "metadata": {},
   "outputs": [],
   "source": [
    "copy_GB['region'] = 'Great Britain'\n",
    "copy_IN['region'] = 'India'\n",
    "copy_JP['region'] = 'Japan'\n",
    "copy_KR['region'] = 'Korea'\n",
    "copy_RU['region'] = 'Russia'\n",
    "copy_US['region'] = 'USA'"
   ]
  },
  {
   "cell_type": "code",
   "execution_count": 147,
   "metadata": {},
   "outputs": [],
   "source": [
    "combined_df = copy_GB.append([copy_IN,copy_JP,copy_KR,copy_RU,copy_US], ignore_index=False, sort=False) "
   ]
  },
  {
   "cell_type": "code",
   "execution_count": 148,
   "metadata": {},
   "outputs": [
    {
     "data": {
      "text/plain": [
       "213046"
      ]
     },
     "execution_count": 148,
     "metadata": {},
     "output_type": "execute_result"
    }
   ],
   "source": [
    "copy_GB.shape[0]+copy_IN.shape[0]+copy_JP.shape[0]+copy_KR.shape[0]+copy_RU.shape[0]+copy_US.shape[0]"
   ]
  },
  {
   "cell_type": "markdown",
   "metadata": {},
   "source": [
    "#### Test"
   ]
  },
  {
   "cell_type": "code",
   "execution_count": 149,
   "metadata": {},
   "outputs": [
    {
     "data": {
      "text/plain": [
       "213046"
      ]
     },
     "execution_count": 149,
     "metadata": {},
     "output_type": "execute_result"
    }
   ],
   "source": [
    "# find out the total rows added up by each dataset\n",
    "copy_GB.shape[0]+copy_IN.shape[0]+copy_JP.shape[0]+copy_KR.shape[0]+copy_RU.shape[0]+copy_US.shape[0]"
   ]
  },
  {
   "cell_type": "code",
   "execution_count": 150,
   "metadata": {},
   "outputs": [
    {
     "data": {
      "text/plain": [
       "213046"
      ]
     },
     "execution_count": 150,
     "metadata": {},
     "output_type": "execute_result"
    }
   ],
   "source": [
    "# the rows of combined_df should be 213046\n",
    "combined_df.shape[0]"
   ]
  },
  {
   "cell_type": "markdown",
   "metadata": {},
   "source": [
    "**Quality issue: Many duplicated rows**"
   ]
  },
  {
   "cell_type": "markdown",
   "metadata": {},
   "source": [
    "**Define: use .drop_duplicated() to drop duplicated rows.**"
   ]
  },
  {
   "cell_type": "markdown",
   "metadata": {},
   "source": [
    "#### Code"
   ]
  },
  {
   "cell_type": "code",
   "execution_count": 151,
   "metadata": {
    "scrolled": true
   },
   "outputs": [
    {
     "data": {
      "text/plain": [
       "12521"
      ]
     },
     "execution_count": 151,
     "metadata": {},
     "output_type": "execute_result"
    }
   ],
   "source": [
    "sum(combined_df.duplicated())"
   ]
  },
  {
   "cell_type": "code",
   "execution_count": 152,
   "metadata": {},
   "outputs": [
    {
     "data": {
      "text/plain": [
       "124510"
      ]
     },
     "execution_count": 152,
     "metadata": {},
     "output_type": "execute_result"
    }
   ],
   "source": [
    "sum(combined_df.duplicated(['title','publish_time']))"
   ]
  },
  {
   "cell_type": "code",
   "execution_count": 153,
   "metadata": {},
   "outputs": [],
   "source": [
    "combined_df=combined_df.drop_duplicates()\n",
    "combined_df=combined_df.drop_duplicates(['title','publish_time'])"
   ]
  },
  {
   "cell_type": "markdown",
   "metadata": {},
   "source": [
    "#### Test"
   ]
  },
  {
   "cell_type": "code",
   "execution_count": 154,
   "metadata": {},
   "outputs": [
    {
     "data": {
      "text/plain": [
       "(0, 0)"
      ]
     },
     "execution_count": 154,
     "metadata": {},
     "output_type": "execute_result"
    }
   ],
   "source": [
    "sum(combined_df.duplicated()),sum(combined_df.duplicated(['title','publish_time']))"
   ]
  },
  {
   "cell_type": "markdown",
   "metadata": {},
   "source": [
    "**Quality issue: The data type of trending_date and publish_time should be datetime instead of object**"
   ]
  },
  {
   "cell_type": "markdown",
   "metadata": {},
   "source": [
    "**Define: divide all str in trending_date into year, month, and date, then combine them together in the order that pandas understand as datetime, then convert the original datatype to datatime.**"
   ]
  },
  {
   "cell_type": "markdown",
   "metadata": {},
   "source": [
    "#### Code"
   ]
  },
  {
   "cell_type": "code",
   "execution_count": 155,
   "metadata": {
    "scrolled": true
   },
   "outputs": [],
   "source": [
    "# divide all str in trending_date into year, month, and date, then combine them together.\n",
    "\n",
    "combined_df['year'] = combined_df['trending_date'].apply(lambda x: '20'+x.split(\".\")[0])\n",
    "combined_df['day'] = combined_df['trending_date'].apply(lambda x: x.split(\".\")[1])\n",
    "combined_df['month'] = combined_df['trending_date'].apply(lambda x: x.split(\".\")[2])\n",
    "combined_df['trending_date'] = combined_df['year']+combined_df['month']+combined_df['day']"
   ]
  },
  {
   "cell_type": "code",
   "execution_count": 156,
   "metadata": {},
   "outputs": [],
   "source": [
    "# convert the original datatype  to datatime\n",
    "\n",
    "combined_df.publish_time=combined_df.publish_time.astype('datetime64[ns]') \n",
    "combined_df.trending_date=combined_df.trending_date.astype('datetime64[ns]') "
   ]
  },
  {
   "cell_type": "code",
   "execution_count": 157,
   "metadata": {},
   "outputs": [],
   "source": [
    "# drop not useful columns: 'day'\n",
    "combined_df.drop('day', axis=1, inplace=True)"
   ]
  },
  {
   "cell_type": "markdown",
   "metadata": {},
   "source": [
    "#### Test"
   ]
  },
  {
   "cell_type": "code",
   "execution_count": 158,
   "metadata": {},
   "outputs": [
    {
     "data": {
      "text/plain": [
       "21792   2018-03-05 04:00:01\n",
       "38405   2018-06-02 07:43:24\n",
       "28653   2018-04-14 03:55:08\n",
       "7435    2018-03-22 21:51:02\n",
       "10548   2018-04-16 00:36:23\n",
       "8916    2017-12-27 16:44:44\n",
       "30225   2018-05-20 05:48:17\n",
       "17583   2018-02-17 06:41:16\n",
       "6356    2017-12-14 23:58:28\n",
       "25883   2018-03-24 08:54:54\n",
       "Name: publish_time, dtype: datetime64[ns]"
      ]
     },
     "execution_count": 158,
     "metadata": {},
     "output_type": "execute_result"
    }
   ],
   "source": [
    "combined_df.publish_time.sample(10)"
   ]
  },
  {
   "cell_type": "code",
   "execution_count": 159,
   "metadata": {
    "scrolled": true
   },
   "outputs": [
    {
     "data": {
      "text/plain": [
       "28902   2018-04-15\n",
       "24522   2018-03-18\n",
       "8830    2017-12-28\n",
       "14233   2018-01-30\n",
       "39821   2018-06-10\n",
       "20113   2018-02-24\n",
       "1005    2017-11-19\n",
       "12178   2018-01-19\n",
       "10504   2018-01-05\n",
       "13009   2018-01-20\n",
       "Name: trending_date, dtype: datetime64[ns]"
      ]
     },
     "execution_count": 159,
     "metadata": {},
     "output_type": "execute_result"
    }
   ],
   "source": [
    "combined_df.trending_date.sample(10)"
   ]
  },
  {
   "cell_type": "code",
   "execution_count": 171,
   "metadata": {},
   "outputs": [
    {
     "name": "stdout",
     "output_type": "stream",
     "text": [
      "<class 'pandas.core.frame.DataFrame'>\n",
      "Int64Index: 88536 entries, 0 to 40766\n",
      "Data columns (total 16 columns):\n",
      "video_id                  88536 non-null object\n",
      "trending_date             88536 non-null datetime64[ns]\n",
      "title                     88536 non-null object\n",
      "channel_title             88536 non-null object\n",
      "category                  86983 non-null object\n",
      "publish_time              88536 non-null datetime64[ns]\n",
      "views                     88536 non-null int64\n",
      "likes                     88536 non-null int64\n",
      "dislikes                  88536 non-null int64\n",
      "comment_count             88536 non-null int64\n",
      "comments_disabled         88536 non-null bool\n",
      "ratings_disabled          88536 non-null bool\n",
      "video_error_or_removed    88536 non-null bool\n",
      "region                    88536 non-null object\n",
      "year                      88536 non-null object\n",
      "month                     88536 non-null object\n",
      "dtypes: bool(3), datetime64[ns](2), int64(4), object(7)\n",
      "memory usage: 9.7+ MB\n"
     ]
    }
   ],
   "source": [
    "combined_df.info()"
   ]
  },
  {
   "cell_type": "markdown",
   "metadata": {},
   "source": [
    "### Final step of Wrangling: Store data"
   ]
  },
  {
   "cell_type": "code",
   "execution_count": 172,
   "metadata": {},
   "outputs": [],
   "source": [
    "# store the file\n",
    "combined_df.reset_index(drop=True)\n",
    "combined_df.to_csv('clean_df.csv')"
   ]
  },
  {
   "cell_type": "code",
   "execution_count": 5,
   "metadata": {},
   "outputs": [],
   "source": [
    "#load data\n",
    "clean_df = pd.read_csv('clean_df.csv')\n",
    "clean_df.drop('Unnamed: 0', axis=1, inplace=True)\n",
    "clean_df.publish_time=clean_df.publish_time.astype('datetime64[ns]') \n",
    "clean_df.trending_date=clean_df.trending_date.astype('datetime64[ns]') "
   ]
  },
  {
   "cell_type": "code",
   "execution_count": 6,
   "metadata": {},
   "outputs": [
    {
     "name": "stdout",
     "output_type": "stream",
     "text": [
      "<class 'pandas.core.frame.DataFrame'>\n",
      "RangeIndex: 88536 entries, 0 to 88535\n",
      "Data columns (total 16 columns):\n",
      "video_id                  88536 non-null object\n",
      "trending_date             88536 non-null datetime64[ns]\n",
      "title                     88536 non-null object\n",
      "channel_title             88536 non-null object\n",
      "category                  86983 non-null object\n",
      "publish_time              88536 non-null datetime64[ns]\n",
      "views                     88536 non-null int64\n",
      "likes                     88536 non-null int64\n",
      "dislikes                  88536 non-null int64\n",
      "comment_count             88536 non-null int64\n",
      "comments_disabled         88536 non-null bool\n",
      "ratings_disabled          88536 non-null bool\n",
      "video_error_or_removed    88536 non-null bool\n",
      "region                    88536 non-null object\n",
      "year                      88536 non-null int64\n",
      "month                     88536 non-null int64\n",
      "dtypes: bool(3), datetime64[ns](2), int64(6), object(5)\n",
      "memory usage: 9.0+ MB\n"
     ]
    }
   ],
   "source": [
    "clean_df.info()"
   ]
  },
  {
   "cell_type": "markdown",
   "metadata": {},
   "source": [
    "## Exploratory Data Analysis"
   ]
  },
  {
   "cell_type": "markdown",
   "metadata": {},
   "source": [
    "> Build Visualization Function: desc()"
   ]
  },
  {
   "cell_type": "code",
   "execution_count": 7,
   "metadata": {},
   "outputs": [],
   "source": [
    "def desc(title=None, xscale=None, yscale=None, xlabel=None, ylabel=None, xlim=None, ylim=None, xticks1=None, xticks2=None, yticks1=None, yticks2=None,legend_title=None, legend_labels=None):\n",
    "    if title:\n",
    "        plt.title(title);\n",
    "    if xscale:\n",
    "        plt.xscale(xscale);\n",
    "    if yscale:\n",
    "        plt.yscale(yscale);\n",
    "    if xlabel:\n",
    "        plt.xlabel(xlabel);\n",
    "    if ylabel:\n",
    "        plt.ylabel(ylabel);\n",
    "    if xlim:\n",
    "        plt.xlim(xlim);\n",
    "    if ylim:\n",
    "        plt.ylim(ylim);\n",
    "    if xticks1:\n",
    "        plt.xticks(xticks1, xticks2);\n",
    "    if yticks1:\n",
    "        plt.yticks(yticks1, yticks2);\n",
    "    if legend_title:\n",
    "        plt.legend(title=legend_title);\n",
    "        if legend_labels:\n",
    "            plt.legend(title=legend_title, labels=legend_labels);"
   ]
  },
  {
   "cell_type": "markdown",
   "metadata": {},
   "source": [
    "## Research Question 1: Average views in each region"
   ]
  },
  {
   "cell_type": "code",
   "execution_count": 8,
   "metadata": {
    "scrolled": true
   },
   "outputs": [
    {
     "data": {
      "image/png": "[encoded data removed]",
      "text/plain": [
       "<Figure size 936x360 with 1 Axes>"
      ]
     },
     "metadata": {
      "needs_background": "light"
     },
     "output_type": "display_data"
    }
   ],
   "source": [
    "# use groupby to see eacch mean views of each region\n",
    "plt.figure(figsize=(13,5))\n",
    "clean_df.groupby('region').views.mean().sort_values(ascending=False).plot.barh()\n",
    "desc(title='Avereage views in each region from 2006-07 to 2018-06',xticks1=range(0,1400000,100000),xticks2=range(0,1400000,100000),xlabel='Average views')"
   ]
  },
  {
   "cell_type": "markdown",
   "metadata": {},
   "source": [
    "> Note: Great Britain's average views is near 1.3m, which is almost 3 times as much as USA's views.\n",
    "And it would be interesting that if we divide the views by each population of region.\n",
    "\n",
    "> The populatn of Great Britain, USA, India, Korea, Hapan, and Russia are 66.65, 328.2, 1353, 51.64, 126.5, 144.5, "
   ]
  },
  {
   "cell_type": "code",
   "execution_count": 9,
   "metadata": {
    "scrolled": true
   },
   "outputs": [],
   "source": [
    "# save each values of views in a list\n",
    "list1 = list(clean_df.groupby('region').views.mean().sort_values(ascending=False).values)\n",
    "\n",
    "# Mutiply each population value to orignal value\n",
    "list2 = [66.65, 328.2, 1353, 51.64, 126.5, 144.5]\n",
    "list2 = [x * 1000000 for x in list2]"
   ]
  },
  {
   "cell_type": "code",
   "execution_count": 10,
   "metadata": {
    "scrolled": false
   },
   "outputs": [
    {
     "data": {
      "image/png": "[encoded data removed]",
      "text/plain": [
       "<Figure size 936x360 with 1 Axes>"
      ]
     },
     "metadata": {
      "needs_background": "light"
     },
     "output_type": "display_data"
    }
   ],
   "source": [
    "# get the views divided by population nad visulaize it\n",
    "res = [i / j for i, j in zip(list1, list2)] \n",
    "data = {'views/population'     : res,\n",
    "        'region'  : ['Great Britain', 'USA', 'India', 'Korea', 'Hapan', 'Russia']}\n",
    "temp = pd.DataFrame(data)\n",
    "temp = temp.set_index('region')\n",
    "plt.figure(figsize=(13,5))\n",
    "temp['views/population'].plot.barh();"
   ]
  },
  {
   "cell_type": "code",
   "execution_count": 11,
   "metadata": {
    "scrolled": true
   },
   "outputs": [
    {
     "data": {
      "image/png": "[encoded data removed]",
      "text/plain": [
       "<Figure size 936x576 with 2 Axes>"
      ]
     },
     "metadata": {
      "needs_background": "light"
     },
     "output_type": "display_data"
    }
   ],
   "source": [
    "plt.figure(figsize=(13,8))\n",
    "# combine these two graph\n",
    "plt.subplot(2, 1, 1)\n",
    "\n",
    "# use groupby to see eacch mean views of each region\n",
    "clean_df.groupby('region').views.mean().sort_values(ascending=False).plot.barh()\n",
    "desc(title='Avereage views in each region from 2006-07 to 2018-06',xticks1=range(0,1400000,100000),xticks2=range(0,1400000,100000),xlabel='numbers of views')\n",
    "\n",
    "plt.subplot(2, 1, 2)\n",
    "temp['views/population'].sort_values(ascending=False).plot.barh();\n",
    "desc(title='Avergae views from 2006-07 to 2018-06 divided by population of each region', xlabel='numbers of views per person')\n",
    "plt.tight_layout()"
   ]
  },
  {
   "cell_type": "markdown",
   "metadata": {},
   "source": [
    "> Note: Great Britain got most views from 2006 to 2018. For numbers of views per person, Great Britain was still the first place, which was at least 5 times higher than the rest of the regions is this dataset."
   ]
  },
  {
   "cell_type": "markdown",
   "metadata": {},
   "source": [
    "## Research Question 2: Average time for potential videos to get to trending in each region"
   ]
  },
  {
   "cell_type": "code",
   "execution_count": 12,
   "metadata": {},
   "outputs": [],
   "source": [
    "# find the time of every videos used to get trending and save those time to \"Time_to_get_trending\" column \n",
    "clean_df['Time_to_get_trending'] = clean_df['trending_date'] - clean_df['publish_time']\n",
    "clean_df['Time_to_get_trending'] = clean_df['Time_to_get_trending'].apply(lambda x: x.days*24+x.seconds/3600)"
   ]
  },
  {
   "cell_type": "code",
   "execution_count": 13,
   "metadata": {
    "scrolled": true
   },
   "outputs": [
    {
     "data": {
      "text/plain": [
       "count     88536.000000\n",
       "mean         98.812765\n",
       "std        1921.537950\n",
       "min         -20.843056\n",
       "25%           8.333264\n",
       "50%          13.146806\n",
       "75%          19.999514\n",
       "max      101151.596944\n",
       "Name: Time_to_get_trending, dtype: float64"
      ]
     },
     "execution_count": 13,
     "metadata": {},
     "output_type": "execute_result"
    }
   ],
   "source": [
    "# Examine the numbers in 'Time_to_get_trending' column\n",
    "clean_df['Time_to_get_trending'].describe()"
   ]
  },
  {
   "cell_type": "markdown",
   "metadata": {},
   "source": [
    "> Note: I found there are some negative numbers, which are not valid because usage of time cannot be negative."
   ]
  },
  {
   "cell_type": "code",
   "execution_count": 14,
   "metadata": {},
   "outputs": [],
   "source": [
    "# covert all the negative numbers to zero\n",
    "clean_df['Time_to_get_trending'] = clean_df['Time_to_get_trending'].apply(lambda x: x if x >= 0 else 0 )"
   ]
  },
  {
   "cell_type": "code",
   "execution_count": 15,
   "metadata": {
    "scrolled": false
   },
   "outputs": [
    {
     "data": {
      "text/plain": [
       "count     88536.000000\n",
       "mean         99.039784\n",
       "std        1921.525855\n",
       "min           0.000000\n",
       "25%           8.333264\n",
       "50%          13.146806\n",
       "75%          19.999514\n",
       "max      101151.596944\n",
       "Name: Time_to_get_trending, dtype: float64"
      ]
     },
     "execution_count": 15,
     "metadata": {},
     "output_type": "execute_result"
    }
   ],
   "source": [
    "# Test the result\n",
    "clean_df['Time_to_get_trending'].describe()"
   ]
  },
  {
   "cell_type": "markdown",
   "metadata": {},
   "source": [
    "> Note: I also found that there are few numbers are extremely high(outliers), so I decide to use 95% of the data to analyze the question "
   ]
  },
  {
   "cell_type": "code",
   "execution_count": 16,
   "metadata": {
    "scrolled": false
   },
   "outputs": [
    {
     "data": {
      "text/plain": [
       "59.832430555555554"
      ]
     },
     "execution_count": 16,
     "metadata": {},
     "output_type": "execute_result"
    }
   ],
   "source": [
    "clean_df['Time_to_get_trending'].quantile(0.95)"
   ]
  },
  {
   "cell_type": "code",
   "execution_count": 17,
   "metadata": {},
   "outputs": [],
   "source": [
    "# We only need 95% of the data\n",
    "temp_df = clean_df.query('Time_to_get_trending<60')"
   ]
  },
  {
   "cell_type": "code",
   "execution_count": 18,
   "metadata": {},
   "outputs": [
    {
     "data": {
      "text/plain": [
       "<matplotlib.axes._subplots.AxesSubplot at 0x1c2695aa50>"
      ]
     },
     "execution_count": 18,
     "metadata": {},
     "output_type": "execute_result"
    },
    {
     "data": {
      "image/png": "[encoded data removed]",
      "text/plain": [
       "<Figure size 432x288 with 1 Axes>"
      ]
     },
     "metadata": {
      "needs_background": "light"
     },
     "output_type": "display_data"
    }
   ],
   "source": [
    "# Examine the distribution of it\n",
    "temp_df['Time_to_get_trending'].plot.hist()"
   ]
  },
  {
   "cell_type": "code",
   "execution_count": 19,
   "metadata": {},
   "outputs": [
    {
     "data": {
      "image/png": "[encoded data removed]",
      "text/plain": [
       "<Figure size 936x360 with 1 Axes>"
      ]
     },
     "metadata": {
      "needs_background": "light"
     },
     "output_type": "display_data"
    }
   ],
   "source": [
    "# Visualize it\n",
    "plt.figure(figsize=(13,5))\n",
    "temp_df.groupby('region').Time_to_get_trending.mean().sort_values().plot.barh();\n",
    "desc(title='Average time for potential videos to get to trending in each region',xlabel='hours')"
   ]
  },
  {
   "cell_type": "markdown",
   "metadata": {},
   "source": [
    "> Note: Average time for potential videos to get to trending in USA and Great Britain is around 22-25 hours, which is nearly two times as much as the average time in Japan and Russia."
   ]
  },
  {
   "cell_type": "markdown",
   "metadata": {},
   "source": [
    "## Research Question 3: Top 3 channels in each region measured by views and comment counts"
   ]
  },
  {
   "cell_type": "code",
   "execution_count": 88,
   "metadata": {
    "scrolled": false
   },
   "outputs": [
    {
     "data": {
      "text/plain": [
       "205.778232363023"
      ]
     },
     "execution_count": 88,
     "metadata": {},
     "output_type": "execute_result"
    }
   ],
   "source": [
    "# Find out what is thhe times number of the average number of divided by the average number of communt_count\n",
    "# so that we can treat the number equally later on\n",
    "clean_df.views.mean()/clean_df.comment_count.mean()"
   ]
  },
  {
   "cell_type": "markdown",
   "metadata": {},
   "source": [
    "> Note: the average number of views is 205 times as much as the one of comment counts."
   ]
  },
  {
   "cell_type": "code",
   "execution_count": 89,
   "metadata": {},
   "outputs": [],
   "source": [
    "# Views and Comment counts are both good metrics to judge if it is a popular video, \n",
    "# but views matter muchh more than comment counts, so I decide to give 80% weights to views and 20% weights to \n",
    "# comment counts to calculate the result numbers to find top channels \n",
    "clean_df['Popular_number'] = clean_df['views']*0.8 + clean_df['comment_count']*205*0.2"
   ]
  },
  {
   "cell_type": "code",
   "execution_count": 120,
   "metadata": {},
   "outputs": [],
   "source": [
    "# Create dataframes for each region\n",
    "Top_3_Channel_USA = pd.DataFrame(clean_df.query('region==\"USA\"').groupby('channel_title')['Popular_number'].mean().sort_values(ascending=False).head(3))\n",
    "Top_3_Channel_USA['region'] = \"USA\"\n",
    "Top_3_Channel_USA = Top_3_Channel_USA.reset_index()\n",
    "Top_3_Channel_GB = pd.DataFrame(clean_df.query('region==\"Great Britain\"').groupby('channel_title')['Popular_number'].mean().sort_values(ascending=False).head(3))\n",
    "Top_3_Channel_GB['region'] = \"Great Britain\"\n",
    "Top_3_Channel_GB = Top_3_Channel_GB.reset_index()\n",
    "Top_3_Channel_Japan = pd.DataFrame(clean_df.query('region==\"Japan\"').groupby('channel_title')['Popular_number'].mean().sort_values(ascending=False).head(3))\n",
    "Top_3_Channel_Japan['region'] = \"Japan\"\n",
    "Top_3_Channel_Japan = Top_3_Channel_Japan.reset_index()\n",
    "Top_3_Channel_Korea = pd.DataFrame(clean_df.query('region==\"Korea\"').groupby('channel_title')['Popular_number'].mean().sort_values(ascending=False).head(3))\n",
    "Top_3_Channel_Korea['region'] = \"Korea\"\n",
    "Top_3_Channel_Korea = Top_3_Channel_Korea.reset_index()\n",
    "Top_3_Channel_India = pd.DataFrame(clean_df.query('region==\"India\"').groupby('channel_title')['Popular_number'].mean().sort_values(ascending=False).head(3))\n",
    "Top_3_Channel_India['region'] = \"India\"\n",
    "Top_3_Channel_India = Top_3_Channel_India.reset_index()\n",
    "Top_3_Channel_Russia = pd.DataFrame(clean_df.query('region==\"Russia\"').groupby('channel_title')['Popular_number'].mean().sort_values(ascending=False).head(3))\n",
    "Top_3_Channel_Russia['region'] = \"Russia\"\n",
    "Top_3_Channel_Russia = Top_3_Channel_Russia.reset_index()"
   ]
  },
  {
   "cell_type": "code",
   "execution_count": 203,
   "metadata": {
    "scrolled": true
   },
   "outputs": [
    {
     "data": {
      "image/png": "[encoded data removed]",
      "text/plain": [
       "<Figure size 936x720 with 6 Axes>"
      ]
     },
     "metadata": {
      "needs_background": "light"
     },
     "output_type": "display_data"
    }
   ],
   "source": [
    "# Visualization!\n",
    "plt.figure(figsize=(13,10))\n",
    "plt.subplot(6, 1, 1)\n",
    "sb.barplot(data = Top_3_Channel_GB, y = 'channel_title', x = 'Popular_number')\n",
    "desc(title='Top 3 channels in each region measured by views and comment counts',ylabel=\" \", xlabel=\" \", xticks1=range(0,130000000,10000000), xticks2=range(0,130,10))\n",
    "plt.annotate('Great Britain', xy=(115000000, 1), color='red')\n",
    "plt.subplot(6, 1, 2)\n",
    "sb.barplot(data = Top_3_Channel_USA, y = 'channel_title', x = 'Popular_number')\n",
    "desc(ylabel=\" \", xlabel=\" \", xticks1=range(0,130000000,10000000), xticks2=range(0,130,10))\n",
    "plt.annotate('USA', xy=(110000000, 1), color='red')\n",
    "plt.subplot(6, 1, 3)\n",
    "sb.barplot(data = Top_3_Channel_Japan, y = 'channel_title', x = 'Popular_number')\n",
    "desc(ylabel=\" \", xlabel=\" \", xticks1=range(0,130000000,10000000), xticks2=range(0,130,10))\n",
    "plt.annotate('Japan', xy=(110000000, 1), color='red')\n",
    "plt.subplot(6, 1, 4)\n",
    "sb.barplot(data = Top_3_Channel_Russia, y = 'channel_title', x = 'Popular_number')\n",
    "desc(ylabel=\" \", xlabel=\" \", xticks1=range(0,130000000,10000000), xticks2=range(0,130,10))\n",
    "plt.annotate('Russia', xy=(110000000, 1), color='red')\n",
    "plt.subplot(6, 1, 5)\n",
    "sb.barplot(data = Top_3_Channel_Korea, y = 'channel_title', x = 'Popular_number')\n",
    "desc(ylabel=\" \", xlabel=\" \", xticks1=range(0,130000000,10000000), xticks2=range(0,130,10))\n",
    "plt.annotate('Korea', xy=(110000000, 1), color='red')\n",
    "plt.subplot(6, 1, 6)\n",
    "sb.barplot(data = Top_3_Channel_India, y = 'channel_title', x = 'Popular_number')\n",
    "desc(ylabel=\" \", xlabel=\"Numbers calculated by different weights of views and comment counts (unit: million)\", xticks1=range(0,130000000,10000000), xticks2=range(0,130,10))\n",
    "plt.annotate('India', xy=(110000000, 1), color='red')\n",
    "plt.tight_layout()"
   ]
  },
  {
   "cell_type": "markdown",
   "metadata": {},
   "source": [
    "> Note: In these 6 regions, Great Britain's top 3 channel got most views and comments, which are LuisFonsiVEVO, \n",
    "BeckyGVEVO, and DrakeVEVO.\n",
    "All of them are singers' channels, and LuisFonsiVEVO's number calculated by 80% weight of views and 20% weights of comment counts was almost 4 times as many as DrakeVEVO."
   ]
  },
  {
   "cell_type": "markdown",
   "metadata": {},
   "source": [
    "## Research Question 4: What top 3 categories were the most popular in each regions by views"
   ]
  },
  {
   "cell_type": "code",
   "execution_count": 122,
   "metadata": {},
   "outputs": [],
   "source": [
    "# Create dataframes of top 3 categories for each region\n",
    "Top_3_category_USA = pd.DataFrame(clean_df.query('region==\"USA\"').groupby('category')['views'].mean().sort_values(ascending=False).head(3))\n",
    "Top_3_category_USA['region'] = \"USA\"\n",
    "Top_3_category_USA = Top_3_category_USA.reset_index()\n",
    "Top_3_category_GB = pd.DataFrame(clean_df.query('region==\"Great Britain\"').groupby('category')['views'].mean().sort_values(ascending=False).head(3))\n",
    "Top_3_category_GB['region'] = \"Great Britain\"\n",
    "Top_3_category_GB = Top_3_category_GB.reset_index()\n",
    "Top_3_category_Japan = pd.DataFrame(clean_df.query('region==\"Japan\"').groupby('category')['views'].mean().sort_values(ascending=False).head(3))\n",
    "Top_3_category_Japan['region'] = \"Japan\"\n",
    "Top_3_category_Japan = Top_3_category_Japan.reset_index()\n",
    "Top_3_category_Korea = pd.DataFrame(clean_df.query('region==\"Korea\"').groupby('category')['views'].mean().sort_values(ascending=False).head(3))\n",
    "Top_3_category_Korea['region'] = \"Korea\"\n",
    "Top_3_category_Korea = Top_3_category_Korea.reset_index()\n",
    "Top_3_category_India = pd.DataFrame(clean_df.query('region==\"India\"').groupby('category')['views'].mean().sort_values(ascending=False).head(3))\n",
    "Top_3_category_India['region'] = \"India\"\n",
    "Top_3_category_India = Top_3_category_India.reset_index()\n",
    "Top_3_category_Russia = pd.DataFrame(clean_df.query('region==\"Russia\"').groupby('category')['views'].mean().sort_values(ascending=False).head(3))\n",
    "Top_3_category_Russia['region'] = \"Russia\"\n",
    "Top_3_category_Russia = Top_3_category_Russia.reset_index()"
   ]
  },
  {
   "cell_type": "code",
   "execution_count": 198,
   "metadata": {},
   "outputs": [
    {
     "data": {
      "image/png": "[encoded data removed]",
      "text/plain": [
       "<Figure size 936x720 with 6 Axes>"
      ]
     },
     "metadata": {
      "needs_background": "light"
     },
     "output_type": "display_data"
    }
   ],
   "source": [
    "# Visualization!\n",
    "plt.figure(figsize=(13,10))\n",
    "plt.subplot(6, 1, 1)\n",
    "sb.barplot(data = Top_3_category_GB, y = 'category', x = 'views')\n",
    "desc(title='Top 3 categories in each region measured by views',ylabel=\" \", xlabel=\" \",xticks1=range(0,3100000,250000),xticks2=range(0,3100,250))\n",
    "plt.annotate('Great Britain', xy=(2700000, 1), color='red')\n",
    "plt.subplot(6, 1, 2)\n",
    "sb.barplot(data = Top_3_category_India, y = 'category', x = 'views')\n",
    "desc(ylabel=\" \", xlabel=\" \",xticks1=range(0,3100000,250000),xticks2=range(0,3100,250))\n",
    "plt.annotate('India', xy=(2800000, 1), color='red')\n",
    "plt.subplot(6, 1, 3)\n",
    "sb.barplot(data = Top_3_category_USA, y = 'category', x = 'views')\n",
    "desc(ylabel=\" \", xlabel=\" \",xticks1=range(0,3100000,250000),xticks2=range(0,3100,250))\n",
    "plt.annotate('USA', xy=(2800000, 1), color='red')\n",
    "plt.subplot(6, 1, 4)\n",
    "sb.barplot(data = Top_3_category_Japan, y = 'category', x = 'views')\n",
    "desc(ylabel=\" \",xlabel=\" \",xticks1=range(0,3100000,250000),xticks2=range(0,3100,250))\n",
    "plt.annotate('Japan', xy=(2800000, 1), color='red')\n",
    "plt.subplot(6, 1, 5)\n",
    "sb.barplot(data = Top_3_category_Russia, y = 'category', x = 'views')\n",
    "desc(ylabel=\" \",xlabel=\" \",xticks1=range(0,3100000,250000),xticks2=range(0,3100,250))\n",
    "plt.annotate('Russia', xy=(2800000, 1), color='red')\n",
    "plt.subplot(6, 1, 6)\n",
    "sb.barplot(data = Top_3_category_Korea, y = 'category', x = 'views')\n",
    "desc(ylabel=\" \", xlabel=\"Views(thousands)\",xticks1=range(0,3100000,250000),xticks2=range(0,3100,250))\n",
    "plt.annotate('Korea', xy=(2800000, 1), color='red')\n",
    "plt.tight_layout()"
   ]
  },
  {
   "cell_type": "markdown",
   "metadata": {},
   "source": [
    "> Note: Music is the popular category that is in top 3 category in each region. In Great Britain, music got average 2750 k views, which is over 2 times as many a the rest of two in the top 3. Besides, gaming is a special category that got the highest average views in India and USA, and which is even not in top 3 list in the rest regions in the dataset."
   ]
  },
  {
   "cell_type": "markdown",
   "metadata": {},
   "source": [
    "## Research Question 5: Throughout 2006 to 2018, which month produced most videos?"
   ]
  },
  {
   "cell_type": "code",
   "execution_count": 209,
   "metadata": {
    "scrolled": false
   },
   "outputs": [
    {
     "data": {
      "text/plain": [
       "array([11, 12,  1,  2,  3,  4,  5,  6])"
      ]
     },
     "execution_count": 209,
     "metadata": {},
     "output_type": "execute_result"
    }
   ],
   "source": [
    "# Let's examine the completeness of each month\n",
    "clean_df.month.unique()"
   ]
  },
  {
   "cell_type": "markdown",
   "metadata": {},
   "source": [
    "> Note: I found that the dataset missed the data from July to October, so this analysis is gonna to be only based on January to June, November and December."
   ]
  },
  {
   "cell_type": "code",
   "execution_count": 248,
   "metadata": {
    "scrolled": true
   },
   "outputs": [
    {
     "data": {
      "image/png": "[encoded data removed]",
      "text/plain": [
       "<Figure size 936x1080 with 6 Axes>"
      ]
     },
     "metadata": {
      "needs_background": "light"
     },
     "output_type": "display_data"
    }
   ],
   "source": [
    "# Visualization!\n",
    "plt.figure(figsize=(13,15))\n",
    "plt.subplot(6, 1, 1)\n",
    "(clean_df.query('region==\"USA\"').groupby('month').video_id.count()/clean_df.query('region==\"USA\"').shape[0]).plot.barh()\n",
    "desc(title='Proportion of numbers of videos published in each month in USA from 2006-2018')\n",
    "plt.subplot(6, 1, 2)\n",
    "(clean_df.query('region==\"Great Britain\"').groupby('month').video_id.count()/clean_df.query('region==\"Great Britain\"').shape[0]).plot.barh()\n",
    "desc(title='Proportion of numbers of videos published in each month in Great Britain from 2006-2018')\n",
    "plt.subplot(6, 1, 3)\n",
    "(clean_df.query('region==\"Japan\"').groupby('month').video_id.count()/clean_df.query('region==\"Japan\"').shape[0]).plot.barh()\n",
    "desc(title='Proportion of numbers of videos published in each month in Japan from 2006-2018')\n",
    "plt.subplot(6, 1, 4)\n",
    "(clean_df.query('region==\"Korea\"').groupby('month').video_id.count()/clean_df.query('region==\"Korea\"').shape[0]).plot.barh()\n",
    "desc(title='Proportion of numbers of videos published in each month in Korea from 2006-2018')\n",
    "plt.subplot(6, 1, 5)\n",
    "(clean_df.query('region==\"India\"').groupby('month').video_id.count()/clean_df.query('region==\"India\"').shape[0]).plot.barh()\n",
    "desc(title='Proportion of numbers of videos published in each month in India from 2006-2018')\n",
    "plt.subplot(6, 1, 6)\n",
    "(clean_df.query('region==\"Russia\"').groupby('month').video_id.count()/clean_df.query('region==\"Russia\"').shape[0]).plot.barh()\n",
    "desc(title='Proportion of numbers of videos published in each month in Russia from 2006-2018', xlabel='%')\n",
    "plt.tight_layout()"
   ]
  },
  {
   "cell_type": "markdown",
   "metadata": {},
   "source": [
    "> Note: Around 6 regions, people tended to published less video in June, and pubished most in January or December."
   ]
  },
  {
   "cell_type": "markdown",
   "metadata": {},
   "source": [
    "## Conclusion"
   ]
  },
  {
   "cell_type": "markdown",
   "metadata": {},
   "source": [
    "> Limitation 1 : Youtube videos has **long tail effect**, which means some videos was not be popular at first, but might be popular in years so that the rank of each popular videos listed above might changed now. For example, the video \"The Poop In My Pants | Rick and Morty | Adult Swim\" had only near 2 millions views in this dataset, but it has 7 millions views now in 2020."
   ]
  },
  {
   "cell_type": "markdown",
   "metadata": {},
   "source": [
    "> Limitation 2 : There are some most important metrics of youtube like **Watch Time, unique views, and share counts**, but we don't have each of those information in the dataset so that based on the information given by the dataset to make decision about video creation will be some degree wrong."
   ]
  },
  {
   "cell_type": "markdown",
   "metadata": {},
   "source": [
    "> Limitation 3 : Average time for potential videos to get to trending in each region is based on 95% of the data because the 5% of the data is extremely high, therefore if someone use this analysis to predict the time of their videos to get to trending, it would be 5% degree wrong."
   ]
  },
  {
   "cell_type": "markdown",
   "metadata": {},
   "source": [
    "> Limitation 4 : The dataset missed the data from July to October, so the final analysis is only based on January to June, November and December."
   ]
  },
  {
   "cell_type": "markdown",
   "metadata": {},
   "source": [
    "#### Research Question 1: Avereage views in each region\n",
    "\n",
    "- Great Britain got most views from 2006 to 2018. For numbers of views per person, Great Britain was still the first place, which was at least 5 times higher than the rest of the regions is this dataset.\n",
    "\n",
    "#### Research Question 2: Average time for potential videos to get to trending in each region\n",
    "\n",
    "- Average time for potential videos to get to trending in USA and Great Britain is around 22-25 hours, which is nearly two times as much as the average time in Japan and Russia.\n",
    "       \n",
    "#### Research Question 3: Top 3 channels in each region measured by views and comments\n",
    "\n",
    "- In these 6 regions, Great Britain's top 3 channel got most views and comments, which are LuisFonsiVEVO, BeckyGVEVO, and DrakeVEVO. All of them are singers' channels, and LuisFonsiVEVO's number calculated by 80% weight of views and 20% weights of comment counts was almost 4 times as many as DrakeVEVO.\n",
    "\n",
    "#### Research Question 4: What top 3 categories were the most popular in each regions by views\n",
    "\n",
    "- Music is the popular category that is in top 3 category in each region. In Great Britain, music got average 2750 k views, which is over 2 times as many a the rest of two in the top 3. Besides, gaming is a special category that got the highest average views in India and USA, and which is even not in top 3 list in the rest regions in the dataset.\n",
    "\n",
    "#### Research Question 5: Throughout 2006 to 2018, which month produced most videos?\n",
    "\n",
    "- Around 6 regions, people tended to published less video in June, and pubished most in January or December."
   ]
  }
 ],
 "metadata": {
  "kernelspec": {
   "display_name": "Python 3",
   "language": "python",
   "name": "python3"
  },
  "language_info": {
   "codemirror_mode": {
    "name": "ipython",
    "version": 3
   },
   "file_extension": ".py",
   "mimetype": "text/x-python",
   "name": "python",
   "nbconvert_exporter": "python",
   "pygments_lexer": "ipython3",
   "version": "3.7.4"
  }
 },
 "nbformat": 4,
 "nbformat_minor": 2
}
